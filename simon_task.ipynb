{
 "cells": [
  {
   "cell_type": "code",
   "execution_count": 1,
   "metadata": {},
   "outputs": [],
   "source": [
    "import pandas as pd\n",
    "import numpy as np\n",
    "import matplotlib.pyplot as plt"
   ]
  },
  {
   "cell_type": "code",
   "execution_count": 2,
   "metadata": {},
   "outputs": [],
   "source": [
    "file_path = 'simon_task.txt'  # Passe den Dateinamen an\n",
    "\n",
    "# Datei einlesen und in ein DataFrame umwandeln\n",
    "data = pd.read_csv(file_path, sep=\"\\t\", header=None, names=[\"trial\", \"side\", \"response\", \"condition\", \"block\", \"reaction_time\"])"
   ]
  },
  {
   "cell_type": "code",
   "execution_count": 3,
   "metadata": {},
   "outputs": [
    {
     "data": {
      "text/html": [
       "<div>\n",
       "<style scoped>\n",
       "    .dataframe tbody tr th:only-of-type {\n",
       "        vertical-align: middle;\n",
       "    }\n",
       "\n",
       "    .dataframe tbody tr th {\n",
       "        vertical-align: top;\n",
       "    }\n",
       "\n",
       "    .dataframe thead th {\n",
       "        text-align: right;\n",
       "    }\n",
       "</style>\n",
       "<table border=\"1\" class=\"dataframe\">\n",
       "  <thead>\n",
       "    <tr style=\"text-align: right;\">\n",
       "      <th></th>\n",
       "      <th>trial</th>\n",
       "      <th>side</th>\n",
       "      <th>response</th>\n",
       "      <th>condition</th>\n",
       "      <th>block</th>\n",
       "      <th>reaction_time</th>\n",
       "    </tr>\n",
       "  </thead>\n",
       "  <tbody>\n",
       "    <tr>\n",
       "      <th>1</th>\n",
       "      <td>2</td>\n",
       "      <td>right</td>\n",
       "      <td>leftresponse</td>\n",
       "      <td>incompatible</td>\n",
       "      <td>1</td>\n",
       "      <td>766</td>\n",
       "    </tr>\n",
       "    <tr>\n",
       "      <th>3</th>\n",
       "      <td>2</td>\n",
       "      <td>right</td>\n",
       "      <td>leftresponse</td>\n",
       "      <td>incompatible</td>\n",
       "      <td>1</td>\n",
       "      <td>597</td>\n",
       "    </tr>\n",
       "    <tr>\n",
       "      <th>7</th>\n",
       "      <td>2</td>\n",
       "      <td>right</td>\n",
       "      <td>leftresponse</td>\n",
       "      <td>incompatible</td>\n",
       "      <td>1</td>\n",
       "      <td>874</td>\n",
       "    </tr>\n",
       "    <tr>\n",
       "      <th>9</th>\n",
       "      <td>2</td>\n",
       "      <td>right</td>\n",
       "      <td>leftresponse</td>\n",
       "      <td>incompatible</td>\n",
       "      <td>1</td>\n",
       "      <td>465</td>\n",
       "    </tr>\n",
       "    <tr>\n",
       "      <th>10</th>\n",
       "      <td>4</td>\n",
       "      <td>left</td>\n",
       "      <td>rightresponse</td>\n",
       "      <td>incompatible</td>\n",
       "      <td>1</td>\n",
       "      <td>869</td>\n",
       "    </tr>\n",
       "    <tr>\n",
       "      <th>...</th>\n",
       "      <td>...</td>\n",
       "      <td>...</td>\n",
       "      <td>...</td>\n",
       "      <td>...</td>\n",
       "      <td>...</td>\n",
       "      <td>...</td>\n",
       "    </tr>\n",
       "    <tr>\n",
       "      <th>173</th>\n",
       "      <td>2</td>\n",
       "      <td>right</td>\n",
       "      <td>leftresponse</td>\n",
       "      <td>incompatible</td>\n",
       "      <td>2</td>\n",
       "      <td>491</td>\n",
       "    </tr>\n",
       "    <tr>\n",
       "      <th>175</th>\n",
       "      <td>2</td>\n",
       "      <td>right</td>\n",
       "      <td>leftresponse</td>\n",
       "      <td>incompatible</td>\n",
       "      <td>1</td>\n",
       "      <td>513</td>\n",
       "    </tr>\n",
       "    <tr>\n",
       "      <th>176</th>\n",
       "      <td>2</td>\n",
       "      <td>right</td>\n",
       "      <td>leftresponse</td>\n",
       "      <td>incompatible</td>\n",
       "      <td>1</td>\n",
       "      <td>469</td>\n",
       "    </tr>\n",
       "    <tr>\n",
       "      <th>178</th>\n",
       "      <td>4</td>\n",
       "      <td>left</td>\n",
       "      <td>rightresponse</td>\n",
       "      <td>incompatible</td>\n",
       "      <td>2</td>\n",
       "      <td>624</td>\n",
       "    </tr>\n",
       "    <tr>\n",
       "      <th>179</th>\n",
       "      <td>4</td>\n",
       "      <td>left</td>\n",
       "      <td>rightresponse</td>\n",
       "      <td>incompatible</td>\n",
       "      <td>1</td>\n",
       "      <td>577</td>\n",
       "    </tr>\n",
       "  </tbody>\n",
       "</table>\n",
       "<p>88 rows × 6 columns</p>\n",
       "</div>"
      ],
      "text/plain": [
       "     trial   side       response     condition  block  reaction_time\n",
       "1        2  right   leftresponse  incompatible      1            766\n",
       "3        2  right   leftresponse  incompatible      1            597\n",
       "7        2  right   leftresponse  incompatible      1            874\n",
       "9        2  right   leftresponse  incompatible      1            465\n",
       "10       4   left  rightresponse  incompatible      1            869\n",
       "..     ...    ...            ...           ...    ...            ...\n",
       "173      2  right   leftresponse  incompatible      2            491\n",
       "175      2  right   leftresponse  incompatible      1            513\n",
       "176      2  right   leftresponse  incompatible      1            469\n",
       "178      4   left  rightresponse  incompatible      2            624\n",
       "179      4   left  rightresponse  incompatible      1            577\n",
       "\n",
       "[88 rows x 6 columns]"
      ]
     },
     "execution_count": 3,
     "metadata": {},
     "output_type": "execute_result"
    }
   ],
   "source": [
    "compatible_data = data[data['condition'] == 'compatible']\n",
    "incompatible_data = data[data['condition'] == 'incompatible']\n",
    "compatible_data\n",
    "incompatible_data"
   ]
  },
  {
   "cell_type": "code",
   "execution_count": 4,
   "metadata": {},
   "outputs": [
    {
     "name": "stdout",
     "output_type": "stream",
     "text": [
      "Compatible - Mittelwert: 640.7065217391304, Standardabweichung: 225.5221310766444\n",
      "Incompatible - Mittelwert: 647.4204545454545, Standardabweichung: 141.88798573643484\n"
     ]
    }
   ],
   "source": [
    "compatible_mean = compatible_data['reaction_time'].mean()\n",
    "compatible_std = compatible_data['reaction_time'].std()\n",
    "\n",
    "incompatible_mean = incompatible_data['reaction_time'].mean()\n",
    "incompatible_std = incompatible_data['reaction_time'].std()\n",
    "\n",
    "print(f\"Compatible - Mittelwert: {compatible_mean}, Standardabweichung: {compatible_std}\")\n",
    "print(f\"Incompatible - Mittelwert: {incompatible_mean}, Standardabweichung: {incompatible_std}\")\n"
   ]
  },
  {
   "cell_type": "code",
   "execution_count": 5,
   "metadata": {},
   "outputs": [
    {
     "data": {
      "image/png": "[encoded data removed]",
      "text/plain": [
       "<Figure size 1000x600 with 1 Axes>"
      ]
     },
     "metadata": {},
     "output_type": "display_data"
    }
   ],
   "source": [
    "n_simulationen = 10000\n",
    "\n",
    "# Simulation für jede Bedingung\n",
    "np.random.seed(42)\n",
    "compatible_reactions = np.random.normal(compatible_mean, compatible_std, n_simulationen)\n",
    "incompatible_reactions = np.random.normal(incompatible_mean, incompatible_std, n_simulationen)\n",
    "\n",
    "# Ergebnisse kombinieren und visualisieren\n",
    "plt.figure(figsize=(10, 6))\n",
    "plt.hist(compatible_reactions, bins=50, alpha=0.6, label='Compatible')\n",
    "plt.hist(incompatible_reactions, bins=50, alpha=0.6, label='Incompatible')\n",
    "plt.title('Monte-Carlo-Simulation der Reaktionszeiten')\n",
    "plt.xlabel('Reaktionszeit (ms)')\n",
    "plt.ylabel('Häufigkeit')\n",
    "plt.legend()\n",
    "plt.grid(alpha=0.3)\n",
    "plt.show()"
   ]
  }
 ],
 "metadata": {
  "kernelspec": {
   "display_name": "Python 3",
   "language": "python",
   "name": "python3"
  },
  "language_info": {
   "codemirror_mode": {
    "name": "ipython",
    "version": 3
   },
   "file_extension": ".py",
   "mimetype": "text/x-python",
   "name": "python",
   "nbconvert_exporter": "python",
   "pygments_lexer": "ipython3",
   "version": "3.11.3"
  }
 },
 "nbformat": 4,
 "nbformat_minor": 2
}
